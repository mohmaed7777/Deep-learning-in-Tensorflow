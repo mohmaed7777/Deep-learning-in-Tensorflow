{
  "nbformat": 4,
  "nbformat_minor": 0,
  "metadata": {
    "colab": {
      "name": "Basics of Long Short-Term Memory (LSTM) Model/.ipynb",
      "provenance": [],
      "authorship_tag": "ABX9TyOtsfwHFJFuOA1Ps2WWbLyR",
      "include_colab_link": true
    },
    "kernelspec": {
      "name": "python3",
      "display_name": "Python 3"
    }
  },
  "cells": [
    {
      "cell_type": "markdown",
      "metadata": {
        "id": "view-in-github",
        "colab_type": "text"
      },
      "source": [
        "<a href=\"https://colab.research.google.com/github/mohmaed7777/Deep-learning-in-Tensorflow/blob/master/Basics_of_Long_Short_Term_Memory_(LSTM)_Model_.ipynb\" target=\"_parent\"><img src=\"https://colab.research.google.com/assets/colab-badge.svg\" alt=\"Open In Colab\"/></a>"
      ]
    },
    {
      "cell_type": "markdown",
      "metadata": {
        "id": "nkDis2gmhMeK",
        "colab_type": "text"
      },
      "source": [
        "# **Introduction**\n",
        "Recurrent Neural Networks are Deep Learning models with simple structures and a feedback mechanism built-in, or in different words, the output of a layer is added to the next input and fed back to the same layer.\n",
        "\n",
        "The Recurrent Neural Network is a specialized type of Neural Network that solves the issue of maintaining context for Sequential data -- such as Weather data, Stocks, Genes, etc. At each iterative step, the processing unit takes in an input and the current state of the network, and produces an output and a new state that is re-fed into the network."
      ]
    },
    {
      "cell_type": "markdown",
      "metadata": {
        "id": "vTdtv3vNiK5v",
        "colab_type": "text"
      },
      "source": [
        "# **LSTM**\n",
        "Lets first create a tiny LSTM network sample to understand the architecture of LSTM networks.\n",
        "We need to import the necessary modules for our code. We need numpy and tensorflow, obviously. Additionally, we can import directly the tensorflow.contrib.rnn model, which includes the function for building RNNs."
      ]
    },
    {
      "cell_type": "code",
      "metadata": {
        "id": "YbgN8hFXgoEv",
        "colab_type": "code",
        "colab": {}
      },
      "source": [
        "%tensorflow_version 1.x"
      ],
      "execution_count": 6,
      "outputs": []
    },
    {
      "cell_type": "code",
      "metadata": {
        "id": "L_JZefRVijY6",
        "colab_type": "code",
        "colab": {}
      },
      "source": [
        "import numpy as np\n",
        "import tensorflow as tf\n",
        "sess = tf.Session()"
      ],
      "execution_count": 7,
      "outputs": []
    },
    {
      "cell_type": "code",
      "metadata": {
        "id": "rCORwEu5i6fI",
        "colab_type": "code",
        "colab": {
          "base_uri": "https://localhost:8080/",
          "height": 34
        },
        "outputId": "ae0f1250-e916-4e74-8aa7-8a3c69c7ca33"
      },
      "source": [
        "print(tf.__version__)"
      ],
      "execution_count": 8,
      "outputs": [
        {
          "output_type": "stream",
          "text": [
            "1.15.2\n"
          ],
          "name": "stdout"
        }
      ]
    },
    {
      "cell_type": "code",
      "metadata": {
        "id": "hDFARmUkjODe",
        "colab_type": "code",
        "colab": {
          "base_uri": "https://localhost:8080/",
          "height": 125
        },
        "outputId": "269c3020-4291-46de-d078-d11777935e37"
      },
      "source": [
        "# create a network that has only one lstm cell :\n",
        "LSTM_CELL_SIZE = 4 \n",
        "lstm_cell = tf.contrib.rnn.BasicLSTMCell(LSTM_CELL_SIZE, state_is_tuple=True)\n",
        "state = (tf.zeros([1,LSTM_CELL_SIZE]),)*2\n",
        "state"
      ],
      "execution_count": 10,
      "outputs": [
        {
          "output_type": "stream",
          "text": [
            "WARNING:tensorflow:From <ipython-input-10-dcc40ca31857>:3: BasicLSTMCell.__init__ (from tensorflow.python.ops.rnn_cell_impl) is deprecated and will be removed in a future version.\n",
            "Instructions for updating:\n",
            "This class is equivalent as tf.keras.layers.LSTMCell, and will be replaced by that in Tensorflow 2.0.\n"
          ],
          "name": "stdout"
        },
        {
          "output_type": "execute_result",
          "data": {
            "text/plain": [
              "(<tf.Tensor 'zeros:0' shape=(1, 4) dtype=float32>,\n",
              " <tf.Tensor 'zeros:0' shape=(1, 4) dtype=float32>)"
            ]
          },
          "metadata": {
            "tags": []
          },
          "execution_count": 10
        }
      ]
    },
    {
      "cell_type": "code",
      "metadata": {
        "id": "PONR9G8q5KNo",
        "colab_type": "code",
        "colab": {
          "base_uri": "https://localhost:8080/",
          "height": 34
        },
        "outputId": "c60a9a6f-707a-419e-84c3-b3e1ec674060"
      },
      "source": [
        "# Let define a sample input. In this example, batch_size = 1, and seq_len = 6:\n",
        "sample_input = tf.constant([[3,2,2,2,2,2]], dtype= tf.float32)\n",
        "print(sess.run(sample_input))"
      ],
      "execution_count": 11,
      "outputs": [
        {
          "output_type": "stream",
          "text": [
            "[[3. 2. 2. 2. 2. 2.]]\n"
          ],
          "name": "stdout"
        }
      ]
    },
    {
      "cell_type": "code",
      "metadata": {
        "id": "gevSLIYs5sl5",
        "colab_type": "code",
        "colab": {
          "base_uri": "https://localhost:8080/",
          "height": 90
        },
        "outputId": "a3bc352b-bc35-4a62-8f4b-71bdadc36348"
      },
      "source": [
        "# Now, we can pass the input to lstm_cell, and check the new state:\n",
        "with tf.variable_scope('LSTM_sample1'):\n",
        "  output, state_new = lstm_cell(sample_input, state)\n",
        "sess.run(tf.global_variables_initializer())\n",
        "print(sess.run(state_new))"
      ],
      "execution_count": 13,
      "outputs": [
        {
          "output_type": "stream",
          "text": [
            "LSTMStateTuple(c=array([[ 0.14414692,  0.77633476, -0.09675155, -0.57536906]],\n",
            "      dtype=float32), h=array([[ 0.05171945,  0.51855874, -0.06561659, -0.39674047]],\n",
            "      dtype=float32))\n"
          ],
          "name": "stdout"
        }
      ]
    },
    {
      "cell_type": "code",
      "metadata": {
        "id": "FBjVI4RA6ZWM",
        "colab_type": "code",
        "colab": {
          "base_uri": "https://localhost:8080/",
          "height": 34
        },
        "outputId": "4e8fa5ed-c085-47ba-9d2d-7d994d7f450c"
      },
      "source": [
        "# As we can see, the states has 2 parts, the new state c, and also the output h. Lets check the output again:\n",
        "print(sess.run(output))"
      ],
      "execution_count": 15,
      "outputs": [
        {
          "output_type": "stream",
          "text": [
            "[[ 0.05171945  0.51855874 -0.06561659 -0.39674047]]\n"
          ],
          "name": "stdout"
        }
      ]
    },
    {
      "cell_type": "code",
      "metadata": {
        "id": "Sla-rSaP6q84",
        "colab_type": "code",
        "colab": {}
      },
      "source": [
        ""
      ],
      "execution_count": null,
      "outputs": []
    }
  ]
}