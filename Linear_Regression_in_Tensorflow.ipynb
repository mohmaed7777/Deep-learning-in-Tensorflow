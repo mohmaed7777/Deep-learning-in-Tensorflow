{
  "nbformat": 4,
  "nbformat_minor": 0,
  "metadata": {
    "colab": {
      "name": "Linear Regression in Tensorflow.ipynb",
      "provenance": [],
      "authorship_tag": "ABX9TyPQunkz8frYb25AAPGo6pf4",
      "include_colab_link": true
    },
    "kernelspec": {
      "name": "python3",
      "display_name": "Python 3"
    }
  },
  "cells": [
    {
      "cell_type": "markdown",
      "metadata": {
        "id": "view-in-github",
        "colab_type": "text"
      },
      "source": [
        "<a href=\"https://colab.research.google.com/github/mohmaed7777/Deep-learning-in-Tensorflow/blob/master/Linear_Regression_in_Tensorflow.ipynb\" target=\"_parent\"><img src=\"https://colab.research.google.com/assets/colab-badge.svg\" alt=\"Open In Colab\"/></a>"
      ]
    },
    {
      "cell_type": "markdown",
      "metadata": {
        "id": "buTCXqaNPKgf",
        "colab_type": "text"
      },
      "source": [
        "# **Linear Regression with Tensorflow:**"
      ]
    },
    {
      "cell_type": "markdown",
      "metadata": {
        "id": "5XVUCJIoPpDq",
        "colab_type": "text"
      },
      "source": [
        "Defining a linear regression in simple terms, is the approximation of a linear model used to describe the relationship between two or more variables. In a simple linear regression there are two variables, the dependent variable, which can be seen as the \"state\" or \"final goal\" that we study and try to predict, and the independent variables, also known as explanatory variables, which can be seen as the \"causes\" of the \"states\".\n",
        "\n",
        "When more than one independent variable is present the process is called multiple linear regression.\n",
        "When multiple dependent variables are predicted the process is known as multivariate linear regression.\n",
        "\n",
        "The equation of a simple linear model is\n",
        "\n",
        "**𝑌=𝑎𝑋+𝑏**\n",
        " \n",
        "Where Y is the dependent variable and X is the independent variable, and a and b being the parameters we adjust. a is known as \"slope\" or \"gradient\" and b is the \"intercept\". You can interpret this equation as Y being a function of X, or Y being dependent on X.\n",
        "\n",
        "If you plot the model, you will see it is a line, and by adjusting the \"slope\" parameter you will change the angle between the line and the independent variable axis, and the \"intercept parameter\" will affect where it crosses the dependent variable's axis."
      ]
    },
    {
      "cell_type": "code",
      "metadata": {
        "id": "SAO2fMnbPBuc",
        "colab_type": "code",
        "colab": {}
      },
      "source": [
        "# Let's first import the required packages:\n",
        "import matplotlib as plt \n",
        "import pandas as pd \n",
        "import pylab as pl \n",
        "import numpy as np \n",
        "import tensorflow as tf \n",
        "import matplotlib.patches as mpatches \n",
        "import matplotlib.pyplot as plt\n",
        "%matplotlib inline \n",
        "plt.rcParams['figure.figsize'] = (8, 6)"
      ],
      "execution_count": 8,
      "outputs": []
    },
    {
      "cell_type": "code",
      "metadata": {
        "id": "onBt-SHnRoOe",
        "colab_type": "code",
        "colab": {
          "base_uri": "https://localhost:8080/",
          "height": 87
        },
        "outputId": "6e3740f5-056f-4e03-be07-f9df9ae5394a"
      },
      "source": [
        "# Define the independent variables \n",
        "X = np.arange(0.0, 5.0, 0.1)\n",
        "X"
      ],
      "execution_count": 6,
      "outputs": [
        {
          "output_type": "execute_result",
          "data": {
            "text/plain": [
              "array([0. , 0.1, 0.2, 0.3, 0.4, 0.5, 0.6, 0.7, 0.8, 0.9, 1. , 1.1, 1.2,\n",
              "       1.3, 1.4, 1.5, 1.6, 1.7, 1.8, 1.9, 2. , 2.1, 2.2, 2.3, 2.4, 2.5,\n",
              "       2.6, 2.7, 2.8, 2.9, 3. , 3.1, 3.2, 3.3, 3.4, 3.5, 3.6, 3.7, 3.8,\n",
              "       3.9, 4. , 4.1, 4.2, 4.3, 4.4, 4.5, 4.6, 4.7, 4.8, 4.9])"
            ]
          },
          "metadata": {
            "tags": []
          },
          "execution_count": 6
        }
      ]
    },
    {
      "cell_type": "code",
      "metadata": {
        "id": "NmqGi2JMR5PR",
        "colab_type": "code",
        "colab": {
          "base_uri": "https://localhost:8080/",
          "height": 388
        },
        "outputId": "d6386aaa-0253-4010-cc5f-cc8423786043"
      },
      "source": [
        "# adjusting the slope and intercepts to verify the changes in the graph \n",
        "a = 1 \n",
        "b = 0\n",
        "Y = a * X + b \n",
        "plt.plot(X, Y)\n",
        "plt.ylabel('Dependent variable')\n",
        "plt.xlabel('Independent variable')\n",
        "plt.show()"
      ],
      "execution_count": 9,
      "outputs": [
        {
          "output_type": "display_data",
          "data": {
            "image/png": "[encoded data removed]",
            "text/plain": [
              "<Figure size 576x432 with 1 Axes>"
            ]
          },
          "metadata": {
            "tags": [],
            "needs_background": "light"
          }
        }
      ]
    },
    {
      "cell_type": "code",
      "metadata": {
        "id": "qwSb1_LNSlw5",
        "colab_type": "code",
        "colab": {}
      },
      "source": [
        ""
      ],
      "execution_count": null,
      "outputs": []
    }
  ]
}