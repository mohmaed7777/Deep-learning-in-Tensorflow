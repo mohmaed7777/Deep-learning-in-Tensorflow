{
  "nbformat": 4,
  "nbformat_minor": 0,
  "metadata": {
    "colab": {
      "name": "Linear Regression in Tensorflow.ipynb",
      "provenance": [],
      "authorship_tag": "ABX9TyPQdQmSj12LmQHDkfxvO5Oc",
      "include_colab_link": true
    },
    "kernelspec": {
      "name": "python3",
      "display_name": "Python 3"
    }
  },
  "cells": [
    {
      "cell_type": "markdown",
      "metadata": {
        "id": "view-in-github",
        "colab_type": "text"
      },
      "source": [
        "<a href=\"https://colab.research.google.com/github/mohmaed7777/Deep-learning-in-Tensorflow/blob/master/Linear_Regression_in_Tensorflow.ipynb\" target=\"_parent\"><img src=\"https://colab.research.google.com/assets/colab-badge.svg\" alt=\"Open In Colab\"/></a>"
      ]
    },
    {
      "cell_type": "markdown",
      "metadata": {
        "id": "buTCXqaNPKgf",
        "colab_type": "text"
      },
      "source": [
        "# **Linear Regression with Tensorflow:**"
      ]
    },
    {
      "cell_type": "markdown",
      "metadata": {
        "id": "5XVUCJIoPpDq",
        "colab_type": "text"
      },
      "source": [
        "Defining a linear regression in simple terms, is the approximation of a linear model used to describe the relationship between two or more variables. In a simple linear regression there are two variables, the dependent variable, which can be seen as the \"state\" or \"final goal\" that we study and try to predict, and the independent variables, also known as explanatory variables, which can be seen as the \"causes\" of the \"states\".\n",
        "\n",
        "When more than one independent variable is present the process is called multiple linear regression.\n",
        "When multiple dependent variables are predicted the process is known as multivariate linear regression.\n",
        "\n",
        "The equation of a simple linear model is\n",
        "\n",
        "**𝑌=𝑎𝑋+𝑏**\n",
        " \n",
        "Where Y is the dependent variable and X is the independent variable, and a and b being the parameters we adjust. a is known as \"slope\" or \"gradient\" and b is the \"intercept\". You can interpret this equation as Y being a function of X, or Y being dependent on X.\n",
        "\n",
        "If you plot the model, you will see it is a line, and by adjusting the \"slope\" parameter you will change the angle between the line and the independent variable axis, and the \"intercept parameter\" will affect where it crosses the dependent variable's axis."
      ]
    },
    {
      "cell_type": "code",
      "metadata": {
        "id": "SAO2fMnbPBuc",
        "colab_type": "code",
        "colab": {}
      },
      "source": [
        "# Let's first import the required packages:\n",
        "import matplotlib as plt \n",
        "import pandas as pd \n",
        "import pylab as pl \n",
        "import numpy as np \n",
        "import tensorflow as tf \n",
        "import matplotlib.patches as mpatches \n",
        "import matplotlib.pyplot as plt\n",
        "%matplotlib inline \n",
        "plt.rcParams['figure.figsize'] = (8, 6)"
      ],
      "execution_count": 1,
      "outputs": []
    },
    {
      "cell_type": "code",
      "metadata": {
        "id": "onBt-SHnRoOe",
        "colab_type": "code",
        "colab": {
          "base_uri": "https://localhost:8080/",
          "height": 87
        },
        "outputId": "1fb3ac2c-1df5-4309-cc41-f2d14064ee60"
      },
      "source": [
        "# Define the independent variables \n",
        "X = np.arange(0.0, 5.0, 0.1)\n",
        "X"
      ],
      "execution_count": 2,
      "outputs": [
        {
          "output_type": "execute_result",
          "data": {
            "text/plain": [
              "array([0. , 0.1, 0.2, 0.3, 0.4, 0.5, 0.6, 0.7, 0.8, 0.9, 1. , 1.1, 1.2,\n",
              "       1.3, 1.4, 1.5, 1.6, 1.7, 1.8, 1.9, 2. , 2.1, 2.2, 2.3, 2.4, 2.5,\n",
              "       2.6, 2.7, 2.8, 2.9, 3. , 3.1, 3.2, 3.3, 3.4, 3.5, 3.6, 3.7, 3.8,\n",
              "       3.9, 4. , 4.1, 4.2, 4.3, 4.4, 4.5, 4.6, 4.7, 4.8, 4.9])"
            ]
          },
          "metadata": {
            "tags": []
          },
          "execution_count": 2
        }
      ]
    },
    {
      "cell_type": "code",
      "metadata": {
        "id": "NmqGi2JMR5PR",
        "colab_type": "code",
        "colab": {
          "base_uri": "https://localhost:8080/",
          "height": 279
        },
        "outputId": "81b81f95-4388-4c84-d774-d21041c88a0e"
      },
      "source": [
        "# adjusting the slope and intercepts to verify the changes in the graph \n",
        "a = 1 \n",
        "b = 0\n",
        "Y = a * X + b \n",
        "plt.plot(X, Y)\n",
        "plt.ylabel('Dependent variable')\n",
        "plt.xlabel('Independent variable')\n",
        "plt.show()"
      ],
      "execution_count": 3,
      "outputs": [
        {
          "output_type": "display_data",
          "data": {
            "image/png": "[encoded data removed]",
            "text/plain": [
              "<Figure size 432x288 with 1 Axes>"
            ]
          },
          "metadata": {
            "tags": [],
            "needs_background": "light"
          }
        }
      ]
    },
    {
      "cell_type": "code",
      "metadata": {
        "id": "qwSb1_LNSlw5",
        "colab_type": "code",
        "colab": {
          "base_uri": "https://localhost:8080/",
          "height": 230
        },
        "outputId": "ddb6e873-1336-4749-d9bc-de21bdd9f87c"
      },
      "source": [
        "# Download the dataset: \n",
        "!wget -O FuelConsumption.csv https://s3-api.us-geo.objectstorage.softlayer.net/cf-courses-data/CognitiveClass/ML0101ENv3/labs/FuelConsumptionCo2.csv\n"
      ],
      "execution_count": 5,
      "outputs": [
        {
          "output_type": "stream",
          "text": [
            "--2020-07-20 21:22:27--  https://s3-api.us-geo.objectstorage.softlayer.net/cf-courses-data/CognitiveClass/ML0101ENv3/labs/FuelConsumptionCo2.csv\n",
            "Resolving s3-api.us-geo.objectstorage.softlayer.net (s3-api.us-geo.objectstorage.softlayer.net)... 67.228.254.196\n",
            "Connecting to s3-api.us-geo.objectstorage.softlayer.net (s3-api.us-geo.objectstorage.softlayer.net)|67.228.254.196|:443... connected.\n",
            "HTTP request sent, awaiting response... 200 OK\n",
            "Length: 72629 (71K) [text/csv]\n",
            "Saving to: ‘FuelConsumption.csv’\n",
            "\n",
            "\rFuelConsumption.csv   0%[                    ]       0  --.-KB/s               \rFuelConsumption.csv 100%[===================>]  70.93K  --.-KB/s    in 0.03s   \n",
            "\n",
            "2020-07-20 21:22:27 (2.17 MB/s) - ‘FuelConsumption.csv’ saved [72629/72629]\n",
            "\n"
          ],
          "name": "stdout"
        }
      ]
    },
    {
      "cell_type": "markdown",
      "metadata": {
        "id": "biwQaC8LG7K3",
        "colab_type": "text"
      },
      "source": [
        "# **Understanding the dataset:**"
      ]
    },
    {
      "cell_type": "markdown",
      "metadata": {
        "id": "5fkPRAvCHLJE",
        "colab_type": "text"
      },
      "source": [
        "We have downloaded a fuel consumption dataset, FuelConsumption.csv, which contains model-specific fuel consumption ratings and estimated carbon dioxide emissions for new light-duty vehicles for retail sale in Canada. Dataset source\n",
        "MODELYEAR e.g. 2014\n",
        "MAKE e.g. Acura\n",
        "MODEL e.g. ILX\n",
        "VEHICLE CLASS e.g. SUV\n",
        "ENGINE SIZE e.g. 4.7\n",
        "CYLINDERS e.g 6\n",
        "TRANSMISSION e.g. A6\n",
        "FUEL CONSUMPTION in CITY(L/100 km) e.g. 9.9\n",
        "FUEL CONSUMPTION in HWY (L/100 km) e.g. 8.9\n",
        "FUEL CONSUMPTION COMB (L/100 km) e.g. 9.2\n",
        "CO2 EMISSIONS (g/km) e.g. 182 --> low --> 0"
      ]
    },
    {
      "cell_type": "code",
      "metadata": {
        "id": "RgPqhdDoGu3T",
        "colab_type": "code",
        "colab": {
          "base_uri": "https://localhost:8080/",
          "height": 266
        },
        "outputId": "ccdfbbc9-a970-4ff3-f014-749dfd857afd"
      },
      "source": [
        "df = pd.read_csv('FuelConsumption.csv')\n",
        "df.head()"
      ],
      "execution_count": 6,
      "outputs": [
        {
          "output_type": "execute_result",
          "data": {
            "text/html": [
              "<div>\n",
              "<style scoped>\n",
              "    .dataframe tbody tr th:only-of-type {\n",
              "        vertical-align: middle;\n",
              "    }\n",
              "\n",
              "    .dataframe tbody tr th {\n",
              "        vertical-align: top;\n",
              "    }\n",
              "\n",
              "    .dataframe thead th {\n",
              "        text-align: right;\n",
              "    }\n",
              "</style>\n",
              "<table border=\"1\" class=\"dataframe\">\n",
              "  <thead>\n",
              "    <tr style=\"text-align: right;\">\n",
              "      <th></th>\n",
              "      <th>MODELYEAR</th>\n",
              "      <th>MAKE</th>\n",
              "      <th>MODEL</th>\n",
              "      <th>VEHICLECLASS</th>\n",
              "      <th>ENGINESIZE</th>\n",
              "      <th>CYLINDERS</th>\n",
              "      <th>TRANSMISSION</th>\n",
              "      <th>FUELTYPE</th>\n",
              "      <th>FUELCONSUMPTION_CITY</th>\n",
              "      <th>FUELCONSUMPTION_HWY</th>\n",
              "      <th>FUELCONSUMPTION_COMB</th>\n",
              "      <th>FUELCONSUMPTION_COMB_MPG</th>\n",
              "      <th>CO2EMISSIONS</th>\n",
              "    </tr>\n",
              "  </thead>\n",
              "  <tbody>\n",
              "    <tr>\n",
              "      <th>0</th>\n",
              "      <td>2014</td>\n",
              "      <td>ACURA</td>\n",
              "      <td>ILX</td>\n",
              "      <td>COMPACT</td>\n",
              "      <td>2.0</td>\n",
              "      <td>4</td>\n",
              "      <td>AS5</td>\n",
              "      <td>Z</td>\n",
              "      <td>9.9</td>\n",
              "      <td>6.7</td>\n",
              "      <td>8.5</td>\n",
              "      <td>33</td>\n",
              "      <td>196</td>\n",
              "    </tr>\n",
              "    <tr>\n",
              "      <th>1</th>\n",
              "      <td>2014</td>\n",
              "      <td>ACURA</td>\n",
              "      <td>ILX</td>\n",
              "      <td>COMPACT</td>\n",
              "      <td>2.4</td>\n",
              "      <td>4</td>\n",
              "      <td>M6</td>\n",
              "      <td>Z</td>\n",
              "      <td>11.2</td>\n",
              "      <td>7.7</td>\n",
              "      <td>9.6</td>\n",
              "      <td>29</td>\n",
              "      <td>221</td>\n",
              "    </tr>\n",
              "    <tr>\n",
              "      <th>2</th>\n",
              "      <td>2014</td>\n",
              "      <td>ACURA</td>\n",
              "      <td>ILX HYBRID</td>\n",
              "      <td>COMPACT</td>\n",
              "      <td>1.5</td>\n",
              "      <td>4</td>\n",
              "      <td>AV7</td>\n",
              "      <td>Z</td>\n",
              "      <td>6.0</td>\n",
              "      <td>5.8</td>\n",
              "      <td>5.9</td>\n",
              "      <td>48</td>\n",
              "      <td>136</td>\n",
              "    </tr>\n",
              "    <tr>\n",
              "      <th>3</th>\n",
              "      <td>2014</td>\n",
              "      <td>ACURA</td>\n",
              "      <td>MDX 4WD</td>\n",
              "      <td>SUV - SMALL</td>\n",
              "      <td>3.5</td>\n",
              "      <td>6</td>\n",
              "      <td>AS6</td>\n",
              "      <td>Z</td>\n",
              "      <td>12.7</td>\n",
              "      <td>9.1</td>\n",
              "      <td>11.1</td>\n",
              "      <td>25</td>\n",
              "      <td>255</td>\n",
              "    </tr>\n",
              "    <tr>\n",
              "      <th>4</th>\n",
              "      <td>2014</td>\n",
              "      <td>ACURA</td>\n",
              "      <td>RDX AWD</td>\n",
              "      <td>SUV - SMALL</td>\n",
              "      <td>3.5</td>\n",
              "      <td>6</td>\n",
              "      <td>AS6</td>\n",
              "      <td>Z</td>\n",
              "      <td>12.1</td>\n",
              "      <td>8.7</td>\n",
              "      <td>10.6</td>\n",
              "      <td>27</td>\n",
              "      <td>244</td>\n",
              "    </tr>\n",
              "  </tbody>\n",
              "</table>\n",
              "</div>"
            ],
            "text/plain": [
              "   MODELYEAR   MAKE  ... FUELCONSUMPTION_COMB_MPG CO2EMISSIONS\n",
              "0       2014  ACURA  ...                       33          196\n",
              "1       2014  ACURA  ...                       29          221\n",
              "2       2014  ACURA  ...                       48          136\n",
              "3       2014  ACURA  ...                       25          255\n",
              "4       2014  ACURA  ...                       27          244\n",
              "\n",
              "[5 rows x 13 columns]"
            ]
          },
          "metadata": {
            "tags": []
          },
          "execution_count": 6
        }
      ]
    },
    {
      "cell_type": "code",
      "metadata": {
        "id": "-uHUbvPXHVSI",
        "colab_type": "code",
        "colab": {
          "base_uri": "https://localhost:8080/",
          "height": 263
        },
        "outputId": "8b48ddc9-f467-4dff-d89d-dd09310e83cc"
      },
      "source": [
        "df.count()"
      ],
      "execution_count": 11,
      "outputs": [
        {
          "output_type": "execute_result",
          "data": {
            "text/plain": [
              "MODELYEAR                   1067\n",
              "MAKE                        1067\n",
              "MODEL                       1067\n",
              "VEHICLECLASS                1067\n",
              "ENGINESIZE                  1067\n",
              "CYLINDERS                   1067\n",
              "TRANSMISSION                1067\n",
              "FUELTYPE                    1067\n",
              "FUELCONSUMPTION_CITY        1067\n",
              "FUELCONSUMPTION_HWY         1067\n",
              "FUELCONSUMPTION_COMB        1067\n",
              "FUELCONSUMPTION_COMB_MPG    1067\n",
              "CO2EMISSIONS                1067\n",
              "dtype: int64"
            ]
          },
          "metadata": {
            "tags": []
          },
          "execution_count": 11
        }
      ]
    },
    {
      "cell_type": "code",
      "metadata": {
        "id": "mqiUffTKHY32",
        "colab_type": "code",
        "colab": {
          "base_uri": "https://localhost:8080/",
          "height": 34
        },
        "outputId": "49af791a-041f-4b47-8b71-ce2c8d878d38"
      },
      "source": [
        "df.shape"
      ],
      "execution_count": 12,
      "outputs": [
        {
          "output_type": "execute_result",
          "data": {
            "text/plain": [
              "(1067, 13)"
            ]
          },
          "metadata": {
            "tags": []
          },
          "execution_count": 12
        }
      ]
    },
    {
      "cell_type": "markdown",
      "metadata": {
        "id": "mfLVckIWH2tC",
        "colab_type": "text"
      },
      "source": [
        "Lets say we want to use linear regression to predict Co2Emission of cars based on their engine size. So, lets define X and Y value for the linear regression, that is, train_x and train_y:"
      ]
    },
    {
      "cell_type": "code",
      "metadata": {
        "id": "M5Lmz5nhHleN",
        "colab_type": "code",
        "colab": {}
      },
      "source": [
        "X_train = np.asarray(df['ENGINESIZE'])\n",
        "Y_train = np.asarray(df['CO2EMISSIONS'])"
      ],
      "execution_count": 13,
      "outputs": []
    },
    {
      "cell_type": "markdown",
      "metadata": {
        "id": "o6NKO0LlIf0F",
        "colab_type": "text"
      },
      "source": [
        "First, we initialize the variables a and b, with any random guess, and then we define the linear function:"
      ]
    },
    {
      "cell_type": "code",
      "metadata": {
        "id": "z2p__RjyINUj",
        "colab_type": "code",
        "colab": {
          "base_uri": "https://localhost:8080/",
          "height": 54
        },
        "outputId": "b9f40e47-cab9-43d6-dbc8-2fc5317a737f"
      },
      "source": [
        "a = tf.Variable(10.0)\n",
        "b = tf.Variable(20.3)\n",
        "y = a * X_train + b\n",
        "y"
      ],
      "execution_count": 15,
      "outputs": [
        {
          "output_type": "execute_result",
          "data": {
            "text/plain": [
              "<tf.Tensor: shape=(1067,), dtype=float32, numpy=array([40.3, 44.3, 35.3, ..., 50.3, 52.3, 52.3], dtype=float32)>"
            ]
          },
          "metadata": {
            "tags": []
          },
          "execution_count": 15
        }
      ]
    },
    {
      "cell_type": "markdown",
      "metadata": {
        "id": "cTRYDoZnJCxm",
        "colab_type": "text"
      },
      "source": [
        "Now, we are going to define a loss function for our regression, so we can train our model to better fit our data. In a linear regression, we minimize the squared error of the difference between the predicted values(obtained from the equation) and the target values (the data that we have). In other words we want to minimize the square of the predicted values minus the target value. So we define the equation to be minimized as loss.\n",
        "\n",
        "To find value of our loss, we use tf.reduce_mean(). This function finds the mean of a multidimensional tensor, and the result can have a different dimension."
      ]
    },
    {
      "cell_type": "code",
      "metadata": {
        "id": "ZeelS9u2I2gc",
        "colab_type": "code",
        "colab": {}
      },
      "source": [
        "loss = tf.reduce_mean(tf.square(y - Y_train))\n"
      ],
      "execution_count": 18,
      "outputs": []
    },
    {
      "cell_type": "markdown",
      "metadata": {
        "id": "Al54lb0MJ78r",
        "colab_type": "text"
      },
      "source": [
        "Then, we define the optimizer method. The gradient Descent optimizer takes in parameter: learning rate, which corresponds to the speed with which the optimizer should learn; there are pros and cons for increasing the learning-rate parameter, with a high learning rate the training model converges quickly, but there is a risk that a high learning rate causes instability and the model will not converge. Please feel free to make changes to learning parameter and check its effect. On the other hand decreasing the learning rate might reduce the convergence speed, but it would increase the chance of converging to a solution. You should note that the solution might not be a global optimal solution as there is a chance that the optimizer will get stuck in a local optimal solution. Please review other material for further information on the optimization. Here we will use a simple gradient descent with a learning rate of 0.05:"
      ]
    },
    {
      "cell_type": "code",
      "metadata": {
        "id": "OHVnHzOWJhJN",
        "colab_type": "code",
        "colab": {}
      },
      "source": [
        "optimizer = tf.optimizers.SGD(0.05)"
      ],
      "execution_count": 23,
      "outputs": []
    },
    {
      "cell_type": "code",
      "metadata": {
        "id": "HffmaiSmKRUW",
        "colab_type": "code",
        "colab": {
          "base_uri": "https://localhost:8080/",
          "height": 167
        },
        "outputId": "444c90b2-d595-4423-c285-dd5e91e21374"
      },
      "source": [
        "train = optimizer.minimize(loss)"
      ],
      "execution_count": 24,
      "outputs": [
        {
          "output_type": "error",
          "ename": "TypeError",
          "evalue": "ignored",
          "traceback": [
            "\u001b[0;31m---------------------------------------------------------------------------\u001b[0m",
            "\u001b[0;31mTypeError\u001b[0m                                 Traceback (most recent call last)",
            "\u001b[0;32m<ipython-input-24-ffd2f0e929af>\u001b[0m in \u001b[0;36m<module>\u001b[0;34m()\u001b[0m\n\u001b[0;32m----> 1\u001b[0;31m \u001b[0mtrain\u001b[0m \u001b[0;34m=\u001b[0m \u001b[0moptimizer\u001b[0m\u001b[0;34m.\u001b[0m\u001b[0mminimize\u001b[0m\u001b[0;34m(\u001b[0m\u001b[0mloss\u001b[0m\u001b[0;34m)\u001b[0m\u001b[0;34m\u001b[0m\u001b[0;34m\u001b[0m\u001b[0m\n\u001b[0m",
            "\u001b[0;31mTypeError\u001b[0m: minimize() missing 1 required positional argument: 'var_list'"
          ]
        }
      ]
    },
    {
      "cell_type": "code",
      "metadata": {
        "id": "7PkZttz6KzF8",
        "colab_type": "code",
        "colab": {}
      },
      "source": [
        ""
      ],
      "execution_count": null,
      "outputs": []
    }
  ]
}